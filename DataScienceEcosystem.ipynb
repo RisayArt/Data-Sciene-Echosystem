{
 "cells": [
  {
   "cell_type": "markdown",
   "id": "ff1a8faa-487b-4e40-934e-90066e342aab",
   "metadata": {},
   "source": [
    "# Data Science Tools and Ecosystem "
   ]
  },
  {
   "cell_type": "markdown",
   "id": "4db4d680-3f21-4b2c-9521-3e4a8752bf1c",
   "metadata": {},
   "source": [
    "In this notebook, Data Science Tools and Ecosystem are summarized."
   ]
  },
  {
   "cell_type": "markdown",
   "id": "63bd9809-d545-4182-a70e-4651162c8b1b",
   "metadata": {},
   "source": [
    "**Objectives**\n",
    "*   Some of the popular languages that Data Scientists use\n",
    "*   Some of the commonly used libraries used by Data Scientists\n",
    "*   Simple arithmetic expression to mutiply, divide and add integers\n",
    "*   Creating a single column table containing the header and rows\n",
    "*   Create and use ordered and unordered list in markdown cells\n"
   ]
  },
  {
   "cell_type": "markdown",
   "id": "8fd713f9-0109-434e-baa3-6bd4736626ec",
   "metadata": {},
   "source": [
    "Some of the popular languages that Data Scientists use are:\n",
    "\n",
    "1. Python\n",
    "\n",
    "2. R\n",
    "\n",
    "3. SQL\n",
    "\n",
    "4. Julia"
   ]
  },
  {
   "cell_type": "markdown",
   "id": "b91e2f35-1ad2-4918-839a-0c773ad76a2b",
   "metadata": {},
   "source": [
    "Some of the commonly used libraries used by Data Scientists include:\n",
    "\n",
    "1. NumPy\n",
    "\n",
    "2. SciPy\n",
    "\n",
    "3. Matplotlib\n",
    "\n",
    "4. ggplot2\n",
    "\n",
    "5. Ve"
   ]
  },
  {
   "cell_type": "markdown",
   "id": "128968cf-09d2-43f7-9864-9fccd4457a1c",
   "metadata": {},
   "source": [
    "| Data Science Tools |\n",
    "| -------------------|\n",
    "| Jupyter |\n",
    "| RStudio |\n",
    "| Apache Spark |"
   ]
  },
  {
   "cell_type": "markdown",
   "id": "97d5dac2-dcf7-40c4-9881-c8fdd2e129d9",
   "metadata": {},
   "source": [
    "### Below are a few examples of evaluating arithmetic expressions in Python."
   ]
  },
  {
   "cell_type": "code",
   "execution_count": 10,
   "id": "7a34cc5c-883d-442e-a8c6-de29d6ba25f0",
   "metadata": {},
   "outputs": [
    {
     "data": {
      "text/plain": [
       "17"
      ]
     },
     "execution_count": 10,
     "metadata": {},
     "output_type": "execute_result"
    }
   ],
   "source": [
    "# This a simple arithmetic expression to mutiply then add integers\n",
    "\n",
    "(3*4)+5"
   ]
  },
  {
   "cell_type": "code",
   "execution_count": 11,
   "id": "67b7b66c-36e6-4b15-bec5-96ad37ff2572",
   "metadata": {},
   "outputs": [
    {
     "data": {
      "text/plain": [
       "3.3333333333333335"
      ]
     },
     "execution_count": 11,
     "metadata": {},
     "output_type": "execute_result"
    }
   ],
   "source": [
    "# This will convert 200 minutes to hours by diving by 60\n",
    "\n",
    "200/60"
   ]
  },
  {
   "cell_type": "markdown",
   "id": "919bd06c-f02e-44a2-a524-1924f07bcfd1",
   "metadata": {
    "tags": []
   },
   "source": [
    "## Author\n",
    "\n",
    "Yasir Qayoom"
   ]
  },
  {
   "cell_type": "code",
   "execution_count": null,
   "id": "f4d836ad-dac8-46d4-aa49-4ceada5de640",
   "metadata": {},
   "outputs": [],
   "source": []
  }
 ],
 "metadata": {
  "kernelspec": {
   "display_name": "Python 3 (ipykernel)",
   "language": "python",
   "name": "python3"
  },
  "language_info": {
   "codemirror_mode": {
    "name": "ipython",
    "version": 3
   },
   "file_extension": ".py",
   "mimetype": "text/x-python",
   "name": "python",
   "nbconvert_exporter": "python",
   "pygments_lexer": "ipython3",
   "version": "3.10.9"
  }
 },
 "nbformat": 4,
 "nbformat_minor": 5
}
